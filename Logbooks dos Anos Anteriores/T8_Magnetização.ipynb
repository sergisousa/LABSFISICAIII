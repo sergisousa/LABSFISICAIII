{
 "cells": [
  {
   "cell_type": "code",
   "execution_count": 1,
   "metadata": {
    "ExecuteTime": {
     "end_time": "2020-12-18T15:34:44.849313Z",
     "start_time": "2020-12-18T15:34:33.159687Z"
    }
   },
   "outputs": [],
   "source": [
    "import pandas as pd\n",
    "import matplotlib.pyplot as plt\n",
    "import numpy as np\n",
    "import os\n",
    "from scipy.optimize import curve_fit"
   ]
  },
  {
   "cell_type": "code",
   "execution_count": 9,
   "metadata": {
    "ExecuteTime": {
     "end_time": "2020-12-18T15:34:44.898933Z",
     "start_time": "2020-12-18T15:34:44.857119Z"
    }
   },
   "outputs": [
    {
     "name": "stdout",
     "output_type": "stream",
     "text": [
      "['Adados2.csv', 'Adados.csv']\n"
     ]
    }
   ],
   "source": [
    "current_dir = os.getcwdb()\n",
    "ficheiros = os.listdir()[1:-1]\n",
    "print(ficheiros)\n"
   ]
  },
  {
   "cell_type": "code",
   "execution_count": 10,
   "metadata": {
    "ExecuteTime": {
     "end_time": "2020-12-18T15:34:44.951116Z",
     "start_time": "2020-12-18T15:34:44.907273Z"
    }
   },
   "outputs": [],
   "source": [
    "dic = {}\n",
    "for ficheiro in ficheiros:\n",
    "    cona = pd.read_csv(ficheiro, sep=';')\n",
    "    dic[ficheiro] = cona"
   ]
  },
  {
   "cell_type": "code",
   "execution_count": 11,
   "metadata": {
    "ExecuteTime": {
     "end_time": "2020-12-18T15:34:45.007648Z",
     "start_time": "2020-12-18T15:34:44.958327Z"
    }
   },
   "outputs": [
    {
     "data": {
      "text/html": [
       "<div>\n",
       "<style scoped>\n",
       "    .dataframe tbody tr th:only-of-type {\n",
       "        vertical-align: middle;\n",
       "    }\n",
       "\n",
       "    .dataframe tbody tr th {\n",
       "        vertical-align: top;\n",
       "    }\n",
       "\n",
       "    .dataframe thead th {\n",
       "        text-align: right;\n",
       "    }\n",
       "</style>\n",
       "<table border=\"1\" class=\"dataframe\">\n",
       "  <thead>\n",
       "    <tr style=\"text-align: right;\">\n",
       "      <th></th>\n",
       "      <th>I</th>\n",
       "      <th>R</th>\n",
       "    </tr>\n",
       "  </thead>\n",
       "  <tbody>\n",
       "    <tr>\n",
       "      <th>0</th>\n",
       "      <td>1,05</td>\n",
       "      <td>32,8</td>\n",
       "    </tr>\n",
       "    <tr>\n",
       "      <th>1</th>\n",
       "      <td>0,97</td>\n",
       "      <td>30,6</td>\n",
       "    </tr>\n",
       "    <tr>\n",
       "      <th>2</th>\n",
       "      <td>0,9</td>\n",
       "      <td>28,6</td>\n",
       "    </tr>\n",
       "    <tr>\n",
       "      <th>3</th>\n",
       "      <td>0,83</td>\n",
       "      <td>26,8</td>\n",
       "    </tr>\n",
       "    <tr>\n",
       "      <th>4</th>\n",
       "      <td>0,76</td>\n",
       "      <td>25,2</td>\n",
       "    </tr>\n",
       "    <tr>\n",
       "      <th>...</th>\n",
       "      <td>...</td>\n",
       "      <td>...</td>\n",
       "    </tr>\n",
       "    <tr>\n",
       "      <th>59</th>\n",
       "      <td>0,7</td>\n",
       "      <td>22,1</td>\n",
       "    </tr>\n",
       "    <tr>\n",
       "      <th>60</th>\n",
       "      <td>0,77</td>\n",
       "      <td>24,3</td>\n",
       "    </tr>\n",
       "    <tr>\n",
       "      <th>61</th>\n",
       "      <td>0,83</td>\n",
       "      <td>26,2</td>\n",
       "    </tr>\n",
       "    <tr>\n",
       "      <th>62</th>\n",
       "      <td>0,89</td>\n",
       "      <td>28,2</td>\n",
       "    </tr>\n",
       "    <tr>\n",
       "      <th>63</th>\n",
       "      <td>0,98</td>\n",
       "      <td>31,1</td>\n",
       "    </tr>\n",
       "  </tbody>\n",
       "</table>\n",
       "<p>64 rows × 2 columns</p>\n",
       "</div>"
      ],
      "text/plain": [
       "       I     R\n",
       "0   1,05  32,8\n",
       "1   0,97  30,6\n",
       "2    0,9  28,6\n",
       "3   0,83  26,8\n",
       "4   0,76  25,2\n",
       "..   ...   ...\n",
       "59   0,7  22,1\n",
       "60  0,77  24,3\n",
       "61  0,83  26,2\n",
       "62  0,89  28,2\n",
       "63  0,98  31,1\n",
       "\n",
       "[64 rows x 2 columns]"
      ]
     },
     "execution_count": 11,
     "metadata": {},
     "output_type": "execute_result"
    }
   ],
   "source": [
    "dic['Adados2.csv']"
   ]
  },
  {
   "cell_type": "code",
   "execution_count": 12,
   "metadata": {
    "ExecuteTime": {
     "end_time": "2020-12-18T15:34:45.064174Z",
     "start_time": "2020-12-18T15:34:45.013748Z"
    }
   },
   "outputs": [
    {
     "data": {
      "text/html": [
       "<div>\n",
       "<style scoped>\n",
       "    .dataframe tbody tr th:only-of-type {\n",
       "        vertical-align: middle;\n",
       "    }\n",
       "\n",
       "    .dataframe tbody tr th {\n",
       "        vertical-align: top;\n",
       "    }\n",
       "\n",
       "    .dataframe thead th {\n",
       "        text-align: right;\n",
       "    }\n",
       "</style>\n",
       "<table border=\"1\" class=\"dataframe\">\n",
       "  <thead>\n",
       "    <tr style=\"text-align: right;\">\n",
       "      <th></th>\n",
       "      <th>I</th>\n",
       "      <th>R</th>\n",
       "    </tr>\n",
       "  </thead>\n",
       "  <tbody>\n",
       "    <tr>\n",
       "      <th>0</th>\n",
       "      <td>1.05</td>\n",
       "      <td>32.8</td>\n",
       "    </tr>\n",
       "    <tr>\n",
       "      <th>1</th>\n",
       "      <td>0.97</td>\n",
       "      <td>30.6</td>\n",
       "    </tr>\n",
       "    <tr>\n",
       "      <th>2</th>\n",
       "      <td>0.90</td>\n",
       "      <td>28.6</td>\n",
       "    </tr>\n",
       "    <tr>\n",
       "      <th>3</th>\n",
       "      <td>0.83</td>\n",
       "      <td>26.8</td>\n",
       "    </tr>\n",
       "    <tr>\n",
       "      <th>4</th>\n",
       "      <td>0.76</td>\n",
       "      <td>25.2</td>\n",
       "    </tr>\n",
       "    <tr>\n",
       "      <th>...</th>\n",
       "      <td>...</td>\n",
       "      <td>...</td>\n",
       "    </tr>\n",
       "    <tr>\n",
       "      <th>59</th>\n",
       "      <td>0.70</td>\n",
       "      <td>22.1</td>\n",
       "    </tr>\n",
       "    <tr>\n",
       "      <th>60</th>\n",
       "      <td>0.77</td>\n",
       "      <td>24.3</td>\n",
       "    </tr>\n",
       "    <tr>\n",
       "      <th>61</th>\n",
       "      <td>0.83</td>\n",
       "      <td>26.2</td>\n",
       "    </tr>\n",
       "    <tr>\n",
       "      <th>62</th>\n",
       "      <td>0.89</td>\n",
       "      <td>28.2</td>\n",
       "    </tr>\n",
       "    <tr>\n",
       "      <th>63</th>\n",
       "      <td>0.98</td>\n",
       "      <td>31.1</td>\n",
       "    </tr>\n",
       "  </tbody>\n",
       "</table>\n",
       "<p>64 rows × 2 columns</p>\n",
       "</div>"
      ],
      "text/plain": [
       "       I     R\n",
       "0   1.05  32.8\n",
       "1   0.97  30.6\n",
       "2   0.90  28.6\n",
       "3   0.83  26.8\n",
       "4   0.76  25.2\n",
       "..   ...   ...\n",
       "59  0.70  22.1\n",
       "60  0.77  24.3\n",
       "61  0.83  26.2\n",
       "62  0.89  28.2\n",
       "63  0.98  31.1\n",
       "\n",
       "[64 rows x 2 columns]"
      ]
     },
     "execution_count": 12,
     "metadata": {},
     "output_type": "execute_result"
    }
   ],
   "source": [
    "Para = ['I','R'] \n",
    "\n",
    "def virg(x):\n",
    "    x=x.replace(',','.')\n",
    "    return x\n",
    "\n",
    "for i in range(len(ficheiros)):\n",
    "    for j in range(2):\n",
    "        dic[ficheiros[i]][Para[j]]=(dic[ficheiros[i]][Para[j]].apply(virg)).astype(float)\n",
    "        \n",
    "\n",
    "dic['Adados2.csv']"
   ]
  },
  {
   "cell_type": "code",
   "execution_count": 13,
   "metadata": {
    "ExecuteTime": {
     "end_time": "2020-12-18T15:34:45.095893Z",
     "start_time": "2020-12-18T15:34:45.086100Z"
    }
   },
   "outputs": [
    {
     "name": "stdout",
     "output_type": "stream",
     "text": [
      "-0.99\n"
     ]
    }
   ],
   "source": [
    "print(dic['Adados2.csv'][Para[0]][32])"
   ]
  },
  {
   "cell_type": "code",
   "execution_count": 14,
   "metadata": {
    "ExecuteTime": {
     "end_time": "2020-12-18T15:34:45.597001Z",
     "start_time": "2020-12-18T15:34:45.101920Z"
    }
   },
   "outputs": [
    {
     "data": {
      "text/plain": [
       "<matplotlib.legend.Legend at 0x7fedfcc51250>"
      ]
     },
     "execution_count": 14,
     "metadata": {},
     "output_type": "execute_result"
    },
    {
     "data": {
      "image/png": "[encoded data removed]",
      "text/plain": [
       "<Figure size 720x432 with 1 Axes>"
      ]
     },
     "metadata": {
      "needs_background": "light"
     },
     "output_type": "display_data"
    }
   ],
   "source": [
    "x1,y1=dic['Adados2.csv'][Para[0]][0:32],dic['Adados2.csv'][Para[1]][0:32]\n",
    "x2,y2=dic['Adados2.csv'][Para[0]][32:],dic['Adados2.csv'][Para[1]][32:]\n",
    "\n",
    "plt.figure(figsize=(10,6))\n",
    "plt.plot((x1),y1,'.-',label=r' $I_{max} \\rightarrow -I_{max}$ - Ajuste')\n",
    "plt.plot((x2),y2,'.-',label=r' $-I_{max} \\rightarrow I_{max}$ - Ajuste')\n",
    "\n",
    "plt.grid()\n",
    "plt.xlabel('I(A)')\n",
    "plt.ylabel(r'$\\epsilon$(mV)')\n",
    "plt.legend()\n",
    "\n"
   ]
  },
  {
   "cell_type": "code",
   "execution_count": 16,
   "metadata": {
    "ExecuteTime": {
     "end_time": "2020-12-18T15:35:18.015906Z",
     "start_time": "2020-12-18T15:35:17.643169Z"
    }
   },
   "outputs": [
    {
     "name": "stdout",
     "output_type": "stream",
     "text": [
      "0.002306388753001287\n"
     ]
    },
    {
     "data": {
      "image/png": "[encoded data removed]",
      "text/plain": [
       "<Figure size 720x432 with 1 Axes>"
      ]
     },
     "metadata": {
      "needs_background": "light"
     },
     "output_type": "display_data"
    }
   ],
   "source": [
    "def H(I):\n",
    "    return 4*np.pi*10**-7*86*I/(4.92*10**-2)\n",
    "\n",
    "def uH(I):\n",
    "    mu,N,l= 4*np.pi*10**-7,86,4.92e-2\n",
    "    ul=0.5e-3\n",
    "    ui=0.01\n",
    "    return mu*N*((ui/l)**2+(I/l**2)**2*ul**2)**0.5\n",
    "\n",
    "plt.figure(figsize=(10,6))\n",
    "x1,y1=dic['Adados2.csv'][Para[0]][0:32],dic['Adados2.csv'][Para[1]][0:32]\n",
    "x2,y2=dic['Adados2.csv'][Para[0]][32:],dic['Adados2.csv'][Para[1]][32:]\n",
    "plt.plot(H(x1)*10**3,y1,'.-',label=r' $I_{max} \\rightarrow -I_{max}$ - Ajuste')\n",
    "plt.plot(H(x2)*10**3,y2,'.-',label=r' $-I_{max} \\rightarrow I_{max}$ - Ajuste')\n",
    "\n",
    "plt.grid()\n",
    "plt.xlabel('H(mT)')\n",
    "plt.ylabel('R(mV)')\n",
    "plt.legend()\n",
    "\n",
    "print(H(1.05))"
   ]
  },
  {
   "cell_type": "code",
   "execution_count": 10,
   "metadata": {
    "ExecuteTime": {
     "end_time": "2020-12-18T15:34:48.453095Z",
     "start_time": "2020-12-18T15:34:46.098434Z"
    }
   },
   "outputs": [
    {
     "name": "stdout",
     "output_type": "stream",
     "text": [
      "r2 1 =0.9999127051749332\n",
      "r2 2 =0.9999535808843876\n",
      "[-7.23294349e-04 -8.51642295e+01 -5.52981268e+02  8.25330842e+00]\n",
      "[8.45379213e-05 4.44176334e+00 3.03978482e+01 1.26465725e+00]\n",
      "[ 5.46921323e-04  8.17429619e+01  5.79303177e+02 -6.84436436e+00]\n",
      "[4.57247348e-05 2.91800745e+00 2.24979559e+01 6.79382176e-01]\n",
      "+---------------------------------------------+\n",
      "|            Parâmetros na Descida            |\n",
      "+-----------+-------+-----------+-------------+\n",
      "| Parâmetro | valor | incerteza | incerteza % |\n",
      "+-----------+-------+-----------+-------------+\n",
      "|   B0(mT)  | -0.72 |    0.08   |      12     |\n",
      "|     a     |  -85  |     4     |      5      |\n",
      "|     c     |  -553 |     30    |      5      |\n",
      "|     y0    |   8   |    1.3    |      15     |\n",
      "+-----------+-------+-----------+-------------+\n",
      "+---------------------------------------------+\n",
      "|             Parâmetros na Subida            |\n",
      "+-----------+-------+-----------+-------------+\n",
      "| Parâmetro | valor | incerteza | incerteza % |\n",
      "+-----------+-------+-----------+-------------+\n",
      "|   B0(mT)  |  0.55 |    0.05   |      8      |\n",
      "|     a     |   82  |     3     |      4      |\n",
      "|     c     |  579  |     22    |      4      |\n",
      "|     y0    |   -7  |    0.7    |      10     |\n",
      "+-----------+-------+-----------+-------------+\n"
     ]
    },
    {
     "data": {
      "image/png": "[encoded data removed]",
      "text/plain": [
       "<Figure size 720x432 with 1 Axes>"
      ]
     },
     "metadata": {
      "needs_background": "light"
     },
     "output_type": "display_data"
    }
   ],
   "source": [
    "#Formula da professora Carla\n",
    "x,y=H(dic['Adados2.csv'][Para[0]]),dic['Adados2.csv'][Para[1]]\n",
    "\n",
    "x1,y1=H(dic['Adados2.csv'][Para[0]][0:32]),dic['Adados2.csv'][Para[1]][0:32]\n",
    "x2,y2=H(dic['Adados2.csv'][Para[0]][32:]),dic['Adados2.csv'][Para[1]][32:]\n",
    "\n",
    "def f(B,B0,a,c,y0):\n",
    "    xl=c*(B-B0)\n",
    "    return a*(1/np.tanh(xl)-1/xl) - y0\n",
    "\n",
    "def r2calc(ydata,ycalc):\n",
    "    dy=ydata-ycalc\n",
    "    ss_res = np.sum(dy**2)\n",
    "    ss_tot = np.sum((y-np.mean(y))**2)\n",
    "    return  1 - (ss_res / ss_tot)\n",
    "\n",
    "\n",
    "popt1, pcov1 = curve_fit(f, x1 , y1, maxfev = 3000)\n",
    "B0e1,ae1,ce1, y01 = popt1\n",
    "eB01,ea1,ec1, ey01= np.sqrt(np.diag(pcov1))\n",
    "    \n",
    "yf1=f(x1,B0e1,ae1,ce1,y01)\n",
    "print('r2 1 =' +str(r2calc(y1,yf1)))\n",
    "popt2, pcov2 = curve_fit(f, x2 , y2,maxfev = 3000)\n",
    "B0e2,ae2,ce2, y02= popt2\n",
    "eB02,ea2,ec2, ey02= np.sqrt(np.diag(pcov2))\n",
    "    \n",
    "yf2=f(x2,B0e2,ae2,ce2,y02)\n",
    "print('r2 2 =' +str(r2calc(y2,yf2)))\n",
    "\n",
    "plt.figure(figsize = (10,6))\n",
    "plt.plot(x*10**3,y,'.',c='k',label='Dados Exp')\n",
    "plt.plot(x1*10**3,yf1,'-', label=r' $I_{max} \\rightarrow -I_{max}$ - Ajuste')\n",
    "plt.plot(x2*10**3,yf2,'-',label=r' $-I_{max} \\rightarrow I_{max}$ - Ajuste')\n",
    "plt.grid()\n",
    "\n",
    "plt.xlabel('H(mT)')\n",
    "plt.ylabel(r'$\\epsilon$ (mV)')\n",
    "plt.legend()\n",
    "#r_squared = r2calc(y1,yf)\n",
    "#print(r_squared)\n",
    "print(popt1)\n",
    "print(np.sqrt(np.diag(pcov1)))\n",
    "print(popt2)\n",
    "print(np.sqrt(np.diag(pcov2)))\n",
    "\n",
    "Coisas=[popt1,np.sqrt(np.diag(pcov1)),popt2,np.sqrt(np.diag(pcov2))]\n",
    "tit=['Descida', 'nada','Subida']\n",
    "\n",
    "from prettytable import PrettyTable\n",
    "import operator\n",
    "\n",
    "for i in [0,2]:\n",
    "    xt = PrettyTable()  \n",
    "    \n",
    "    xt.title = 'Parâmetros na ' + tit[i]\n",
    "    xt.field_names = [\"Parâmetro\", 'valor', \"incerteza\" ,'incerteza %']\n",
    "    \n",
    "    xt.add_row(['B0(mT)', \"%.2f\" % (Coisas[i][0]*10**3), \"%.2f\" % (Coisas[i+1][0]*10**3),\"%.0f\" %  abs(Coisas[i+1][0]/Coisas[i][0]*100)])\n",
    "    xt.add_row(['a', \"%.0f\" % Coisas[i][1], \"%.0f\" % Coisas[i+1][1], \"%.0f\" %  abs(Coisas[i+1][1]/Coisas[i][1]*100)])\n",
    "    xt.add_row(['c', \"%.0f\" % (Coisas[i][2]), \"%.0f\" % (Coisas[i+1][2]),\"%.0f\" %  abs(abs(Coisas[i+1][2]/Coisas[i][2]*100))])\n",
    "    xt.add_row(['y0', \"%.0f\" % Coisas[i][3], \"%.1f\" % Coisas[i+1][3],\"%.0f\" %  abs(Coisas[i+1][3]/Coisas[i][3]*100)])\n",
    "    \n",
    "    print(xt)\n"
   ]
  },
  {
   "cell_type": "code",
   "execution_count": 11,
   "metadata": {
    "ExecuteTime": {
     "end_time": "2020-12-18T15:34:48.834436Z",
     "start_time": "2020-12-18T15:34:48.454582Z"
    }
   },
   "outputs": [
    {
     "data": {
      "text/plain": [
       "<matplotlib.legend.Legend at 0x7fdf728cd640>"
      ]
     },
     "execution_count": 11,
     "metadata": {},
     "output_type": "execute_result"
    },
    {
     "data": {
      "image/png": "[encoded data removed]",
      "text/plain": [
       "<Figure size 720x432 with 1 Axes>"
      ]
     },
     "metadata": {
      "needs_background": "light"
     },
     "output_type": "display_data"
    }
   ],
   "source": [
    "\n",
    "xmais=H(np.linspace(-10,10))\n",
    "yfmais2=f(xmais,B0e2,ae2,ce2,y02)\n",
    "yfmais1=f(xmais,B0e1,ae1,ce1,y01)\n",
    "\n",
    "plt.figure(figsize = (10,6))\n",
    "plt.plot(xmais*10**3,yfmais1,label=r' $I_{max} \\rightarrow -I_{max}$ - Ajuste')\n",
    "plt.plot(xmais*10**3,yfmais2,label=r' $-I_{max} \\rightarrow I_{max}$ - Ajuste')\n",
    "\n",
    "plt.plot(x*10**3,y,c='k',ls='-.',label='exprimental')\n",
    "plt.grid()\n",
    "plt.xlabel('H(mT)')\n",
    "plt.ylabel(r'$\\epsilon$ (mV)')\n",
    "plt.legend()\n"
   ]
  },
  {
   "cell_type": "code",
   "execution_count": 12,
   "metadata": {
    "ExecuteTime": {
     "end_time": "2020-12-18T15:34:49.959689Z",
     "start_time": "2020-12-18T15:34:48.837601Z"
    }
   },
   "outputs": [
    {
     "data": {
      "image/png": "[encoded data removed]",
      "text/plain": [
       "<Figure size 1080x288 with 2 Axes>"
      ]
     },
     "metadata": {
      "needs_background": "light"
     },
     "output_type": "display_data"
    }
   ],
   "source": [
    "fig, (ax1,ax2) = plt.subplots(1,2,figsize=(15,4))\n",
    "\n",
    "ax1.plot(x1*10**3,y1-yf1,'.',label=r' $I_{max} \\rightarrow -I_{max}$ - Ajuste')\n",
    "ax1.grid()\n",
    "ax1.set_xlabel('H(mT)')\n",
    "ax1.set_ylabel(r'$\\Delta \\epsilon$ (mV)')\n",
    "ax1.set_ylim(-0.5,0.5)\n",
    "ax1.legend(loc=2)\n",
    "ax1.text(x=1,y=0.4,s= r'$r^2=0.99991$').set_bbox(dict(facecolor='white', alpha=0.5, edgecolor='white'))\n",
    "\n",
    "\n",
    "ax2.plot(x2*10**3,y2-yf2,'.',color='#FF7500',label=r' $-I_{max} \\rightarrow I_{max}$ - Ajuste')\n",
    "ax2.grid()\n",
    "ax2.set_xlabel('H(mT)')\n",
    "ax2.set_ylabel(r'$\\Delta \\epsilon$ (mV)')\n",
    "ax2.legend(loc=2)\n",
    "ax2.set_ylim(-0.5,0.5)\n",
    "ax2.text(x=1,y=0.4,s= r'$r^2=0.99996$').set_bbox(dict(facecolor='white', alpha=0.5, edgecolor='white'))"
   ]
  },
  {
   "cell_type": "code",
   "execution_count": 13,
   "metadata": {
    "ExecuteTime": {
     "end_time": "2020-12-18T15:34:49.973199Z",
     "start_time": "2020-12-18T15:34:49.963791Z"
    }
   },
   "outputs": [
    {
     "name": "stdout",
     "output_type": "stream",
     "text": [
      "Descida:\n",
      "Mr =  2.981742477329419\n",
      "-------------------------------\n",
      "Subida:\n",
      "Mr =  -1.7313718213345117\n"
     ]
    }
   ],
   "source": [
    "## VALOR DE MR\n",
    "\n",
    "print('Descida:')\n",
    "print('Mr = ', f(0,B0e1,ae1,ce1,y01))\n",
    "\n",
    "print('-------------------------------')\n",
    "\n",
    "print('Subida:')\n",
    "print('Mr = ', f(0,B0e2,ae2,ce2,y02))"
   ]
  },
  {
   "cell_type": "code",
   "execution_count": 14,
   "metadata": {
    "ExecuteTime": {
     "end_time": "2020-12-18T15:34:50.027630Z",
     "start_time": "2020-12-18T15:34:49.976696Z"
    }
   },
   "outputs": [
    {
     "name": "stdout",
     "output_type": "stream",
     "text": [
      "Descida:\n",
      "u(Mr) =  1.3939130961153028\n",
      "u(Mr) =  46.74827241833953 %\n",
      "-------------------------------\n",
      "Subida:\n",
      "u(Mr) =  0.7452298030563249\n",
      "u(Mr) =  -43.04273604741439 %\n"
     ]
    }
   ],
   "source": [
    "## INCERTEZA DE MR\n",
    "\n",
    "def uMr(c,b0,ua,uy0,uc,ub0):\n",
    "    xl=c*b0\n",
    "    pp=(1/np.tanh(-xl)+1/xl)**2*ua**2\n",
    "    sp=uy0**2\n",
    "    tp=(b0* (1/np.sinh(xl))**2-1/(xl*c))**2 * uc**2\n",
    "    qp=(c* (1/np.sinh(xl))**2-1/(xl*b0))**2 * ub0**2\n",
    "    \n",
    "    return (pp+sp+tp+qp)**0.5\n",
    "\n",
    "\n",
    "\n",
    "\n",
    "print('Descida:')\n",
    "print('u(Mr) = ', uMr(ce1,B0e1,ea1,ey01,ec1,eB01))\n",
    "print ('u(Mr) = ', (uMr(ce1,B0e1,ea1,ey01,ec1,eB01)/f(0,B0e1,ae1,ce1,y01))*100, '%')\n",
    "\n",
    "print('-------------------------------')\n",
    "\n",
    "print('Subida:')\n",
    "print('u(Mr) = ', uMr(ce2,B0e2,ea2,ey02,ec2,eB02))\n",
    "print ('u(Mr) = ', (uMr(ce2,B0e2,ea2,ey02,ec2,eB02)/f(0,B0e2,ae2,ce2,y02))*100, '%')"
   ]
  },
  {
   "cell_type": "code",
   "execution_count": 15,
   "metadata": {
    "ExecuteTime": {
     "end_time": "2020-12-18T15:34:50.039443Z",
     "start_time": "2020-12-18T15:34:50.032274Z"
    }
   },
   "outputs": [
    {
     "name": "stdout",
     "output_type": "stream",
     "text": [
      "Descida:\n",
      "Hc =  -1.236693295015898 mT\n",
      "-------------------------------\n",
      "Subida:\n",
      "Hc =  0.9751944793941303 mT\n"
     ]
    }
   ],
   "source": [
    "## VALOR DE HC\n",
    "\n",
    "print('Descida:')\n",
    "print('Hc = ', (0.2839/ce1+B0e1)*10**3, 'mT')\n",
    "\n",
    "print('-------------------------------')\n",
    "\n",
    "print('Subida:')\n",
    "print('Hc = ', (0.2481/ce2+B0e2)*10**3, 'mT')"
   ]
  },
  {
   "cell_type": "code",
   "execution_count": 16,
   "metadata": {
    "ExecuteTime": {
     "end_time": "2020-12-18T15:34:50.058972Z",
     "start_time": "2020-12-18T15:34:50.044097Z"
    }
   },
   "outputs": [
    {
     "name": "stdout",
     "output_type": "stream",
     "text": [
      "Descida:\n",
      "u(Hc) =  0.09094043999736987  (mT)\n",
      "u(Hc) =  -7.353516054779032 %\n",
      "-------------------------------\n",
      "Subida:\n",
      "u(Hc) =  0.05162724823988194  (mT)\n",
      "u(Hc) =  5.29404640107858 %\n"
     ]
    }
   ],
   "source": [
    "## INCERTEZA DE HC\n",
    "\n",
    "def uHC(c,ux,ub0,x,uc):\n",
    "    pp=(ux/c)**2\n",
    "    sp=ub0**2\n",
    "    tp=(x/c**2)**2*uc**2\n",
    "    \n",
    "    return (pp+sp+tp)**0.5\n",
    "\n",
    "\n",
    "print('Descida:')\n",
    "print('u(Hc) = ', (uHC(ce1,0.01,eB01,0.2839,ec1))*10**3, ' (mT)')\n",
    "print ('u(Hc) = ', (uHC(ce1,0.01,eB01,0.2839,ec1)/((0.2839/ce1+B0e1)))*100, '%')\n",
    "\n",
    "print('-------------------------------')\n",
    "\n",
    "print('Subida:')\n",
    "print('u(Hc) = ', (uHC(ce2,0.01,eB02,0.2481,ec2))*10**3, ' (mT)')\n",
    "print ('u(Hc) = ', (uHC(ce2,0.01,eB02,0.2481,ec2)/((0.2481/ce2+B0e2)))*100, '%')\n"
   ]
  }
 ],
 "metadata": {
  "kernelspec": {
   "display_name": "Python 3",
   "language": "python",
   "name": "python3"
  },
  "language_info": {
   "codemirror_mode": {
    "name": "ipython",
    "version": 3
   },
   "file_extension": ".py",
   "mimetype": "text/x-python",
   "name": "python",
   "nbconvert_exporter": "python",
   "pygments_lexer": "ipython3",
   "version": "3.8.5"
  }
 },
 "nbformat": 4,
 "nbformat_minor": 4
}
